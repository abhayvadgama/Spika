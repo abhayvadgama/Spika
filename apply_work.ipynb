{
  "nbformat": 4,
  "nbformat_minor": 0,
  "metadata": {
    "colab": {
      "name": "Untitled2.ipynb",
      "version": "0.3.2",
      "provenance": [],
      "collapsed_sections": [],
      "include_colab_link": true
    },
    "kernelspec": {
      "name": "python3",
      "display_name": "Python 3"
    }
  },
  "cells": [
    {
      "cell_type": "markdown",
      "metadata": {
        "id": "view-in-github",
        "colab_type": "text"
      },
      "source": [
        "[View in Colaboratory](https://colab.research.google.com/github/abhayvadgama/Spika/blob/master/apply_work.ipynb)"
      ]
    },
    {
      "metadata": {
        "id": "clCjq4plnDfv",
        "colab_type": "code",
        "colab": {
          "base_uri": "https://localhost:8080/",
          "height": 34
        },
        "outputId": "d094091f-44ac-43c9-9abc-23851ed00493"
      },
      "cell_type": "code",
      "source": [
        "from __future__ import print_function\n",
        "import tensorflow as tf\n",
        "\n",
        "try:\n",
        "  tf.contrib.eager.enable_eager_execution()\n",
        "except ValueError:\n",
        "  pass\n",
        "  \n",
        "tensor = tf.constant('Hello World!!')\n",
        "tensor_value = tensor.numpy()\n",
        "\n",
        "print(tensor_value)"
      ],
      "execution_count": 13,
      "outputs": [
        {
          "output_type": "stream",
          "text": [
            "b'Hello World!!'\n"
          ],
          "name": "stdout"
        }
      ]
    },
    {
      "metadata": {
        "id": "QC7AeR5Dq7So",
        "colab_type": "code",
        "colab": {
          "base_uri": "https://localhost:8080/",
          "height": 359
        },
        "outputId": "2e625149-e381-4a08-af5f-12228a3a5b7a"
      },
      "cell_type": "code",
      "source": [
        "from __future__ import print_function\n",
        "\n",
        "import pandas as pd\n",
        "import numpy as np\n",
        "pd.__version__\n",
        "c = pd.Series(['Surat','Sihor','Singapore','San Jose','San Fransisco','San Diago','Srinagar','Samarpur','Sacramento','Surat'])\n",
        "d = pd.Series([888,9898,7878,5858,5522,225632,8524,98985,1236,1236])\n",
        "\n",
        "vv = pd.DataFrame({'City Name': c, 'POP': d})\n",
        "\n",
        "# cc = pd.read_csv(\"https://download.mlcc.google.com/mledu-datasets/california_housing_train.csv\", sep=\",\")\n",
        "\n",
        "# city_names = pd.Series(['San Francisco', 'San Jose', 'Sacramento'])\n",
        "# pd.DataFrame({ 'City name': city_names, 'Population': d })\n",
        "# cities['Area square miles'] = pd.Series([46.87, 176.53, 97.92])\n",
        "vv['action'] = (d > 50 ) & c.apply(lambda name: name.startswith('San')) \n",
        "c\n",
        "vv\n",
        "\n",
        "\n",
        "\n",
        "# cc.describe()\n",
        "\n",
        "# cc.head(2)\n",
        "\n",
        "# cc.hist('population')\n",
        "\n",
        "# np.log(cc.head(2))\n",
        "\n",
        "# print(cc)"
      ],
      "execution_count": 88,
      "outputs": [
        {
          "output_type": "execute_result",
          "data": {
            "text/html": [
              "<div>\n",
              "<style scoped>\n",
              "    .dataframe tbody tr th:only-of-type {\n",
              "        vertical-align: middle;\n",
              "    }\n",
              "\n",
              "    .dataframe tbody tr th {\n",
              "        vertical-align: top;\n",
              "    }\n",
              "\n",
              "    .dataframe thead th {\n",
              "        text-align: right;\n",
              "    }\n",
              "</style>\n",
              "<table border=\"1\" class=\"dataframe\">\n",
              "  <thead>\n",
              "    <tr style=\"text-align: right;\">\n",
              "      <th></th>\n",
              "      <th>City Name</th>\n",
              "      <th>POP</th>\n",
              "      <th>action</th>\n",
              "    </tr>\n",
              "  </thead>\n",
              "  <tbody>\n",
              "    <tr>\n",
              "      <th>0</th>\n",
              "      <td>Surat</td>\n",
              "      <td>888</td>\n",
              "      <td>False</td>\n",
              "    </tr>\n",
              "    <tr>\n",
              "      <th>1</th>\n",
              "      <td>Sihor</td>\n",
              "      <td>9898</td>\n",
              "      <td>False</td>\n",
              "    </tr>\n",
              "    <tr>\n",
              "      <th>2</th>\n",
              "      <td>Singapore</td>\n",
              "      <td>7878</td>\n",
              "      <td>False</td>\n",
              "    </tr>\n",
              "    <tr>\n",
              "      <th>3</th>\n",
              "      <td>San Jose</td>\n",
              "      <td>5858</td>\n",
              "      <td>True</td>\n",
              "    </tr>\n",
              "    <tr>\n",
              "      <th>4</th>\n",
              "      <td>San Fransisco</td>\n",
              "      <td>5522</td>\n",
              "      <td>True</td>\n",
              "    </tr>\n",
              "    <tr>\n",
              "      <th>5</th>\n",
              "      <td>San Diago</td>\n",
              "      <td>225632</td>\n",
              "      <td>True</td>\n",
              "    </tr>\n",
              "    <tr>\n",
              "      <th>6</th>\n",
              "      <td>Srinagar</td>\n",
              "      <td>8524</td>\n",
              "      <td>False</td>\n",
              "    </tr>\n",
              "    <tr>\n",
              "      <th>7</th>\n",
              "      <td>Samarpur</td>\n",
              "      <td>98985</td>\n",
              "      <td>False</td>\n",
              "    </tr>\n",
              "    <tr>\n",
              "      <th>8</th>\n",
              "      <td>Sacramento</td>\n",
              "      <td>1236</td>\n",
              "      <td>False</td>\n",
              "    </tr>\n",
              "    <tr>\n",
              "      <th>9</th>\n",
              "      <td>Surat</td>\n",
              "      <td>1236</td>\n",
              "      <td>False</td>\n",
              "    </tr>\n",
              "  </tbody>\n",
              "</table>\n",
              "</div>"
            ],
            "text/plain": [
              "       City Name     POP  action\n",
              "0          Surat     888   False\n",
              "1          Sihor    9898   False\n",
              "2      Singapore    7878   False\n",
              "3       San Jose    5858    True\n",
              "4  San Fransisco    5522    True\n",
              "5      San Diago  225632    True\n",
              "6       Srinagar    8524   False\n",
              "7       Samarpur   98985   False\n",
              "8     Sacramento    1236   False\n",
              "9          Surat    1236   False"
            ]
          },
          "metadata": {
            "tags": []
          },
          "execution_count": 88
        }
      ]
    },
    {
      "metadata": {
        "id": "JxABPEfHxDsV",
        "colab_type": "code",
        "colab": {}
      },
      "cell_type": "code",
      "source": [
        ""
      ],
      "execution_count": 0,
      "outputs": []
    }
  ]
}